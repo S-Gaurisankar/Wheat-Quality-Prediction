{
 "cells": [
  {
   "cell_type": "code",
   "execution_count": 1,
   "id": "3c56d4c9",
   "metadata": {
    "_cell_guid": "b1076dfc-b9ad-4769-8c92-a6c4dae69d19",
    "_uuid": "8f2839f25d086af736a60e9eeb907d3b93b6e0e5",
    "execution": {
     "iopub.execute_input": "2023-07-05T17:35:48.833540Z",
     "iopub.status.busy": "2023-07-05T17:35:48.832898Z",
     "iopub.status.idle": "2023-07-05T17:35:48.848774Z",
     "shell.execute_reply": "2023-07-05T17:35:48.847398Z"
    },
    "papermill": {
     "duration": 0.039209,
     "end_time": "2023-07-05T17:35:48.853195",
     "exception": false,
     "start_time": "2023-07-05T17:35:48.813986",
     "status": "completed"
    },
    "tags": []
   },
   "outputs": [
    {
     "name": "stdout",
     "output_type": "stream",
     "text": [
      "/kaggle/input/copy-of-wheet-variety-prediction-svm-b1/sample_submission.csv\n",
      "/kaggle/input/copy-of-wheet-variety-prediction-svm-b1/wheet_test.csv\n",
      "/kaggle/input/copy-of-wheet-variety-prediction-svm-b1/wheet_train.csv\n"
     ]
    }
   ],
   "source": [
    "import numpy as np # linear algebra\n",
    "import pandas as pd # data processing, CSV file I/O (e.g. pd.read_csv)\n",
    "\n",
    "import os\n",
    "for dirname, _, filenames in os.walk('/kaggle/input'):\n",
    "    for filename in filenames:\n",
    "        print(os.path.join(dirname, filename))"
   ]
  },
  {
   "cell_type": "markdown",
   "id": "f14ab4cc",
   "metadata": {
    "papermill": {
     "duration": 0.011653,
     "end_time": "2023-07-05T17:35:48.877480",
     "exception": false,
     "start_time": "2023-07-05T17:35:48.865827",
     "status": "completed"
    },
    "tags": []
   },
   "source": [
    "## Reading the datasets"
   ]
  },
  {
   "cell_type": "code",
   "execution_count": 2,
   "id": "4ff0068a",
   "metadata": {
    "execution": {
     "iopub.execute_input": "2023-07-05T17:35:48.904210Z",
     "iopub.status.busy": "2023-07-05T17:35:48.903804Z",
     "iopub.status.idle": "2023-07-05T17:35:48.936570Z",
     "shell.execute_reply": "2023-07-05T17:35:48.935214Z"
    },
    "papermill": {
     "duration": 0.049501,
     "end_time": "2023-07-05T17:35:48.939773",
     "exception": false,
     "start_time": "2023-07-05T17:35:48.890272",
     "status": "completed"
    },
    "tags": []
   },
   "outputs": [],
   "source": [
    "df_train = pd.read_csv(\"/kaggle/input/copy-of-wheet-variety-prediction-svm-b1/wheet_train.csv\")\n",
    "df_test = pd.read_csv(\"/kaggle/input/copy-of-wheet-variety-prediction-svm-b1/wheet_test.csv\")"
   ]
  },
  {
   "cell_type": "markdown",
   "id": "5e36bb97",
   "metadata": {
    "papermill": {
     "duration": 0.013126,
     "end_time": "2023-07-05T17:35:48.965136",
     "exception": false,
     "start_time": "2023-07-05T17:35:48.952010",
     "status": "completed"
    },
    "tags": []
   },
   "source": [
    "## Analysying the train dataset"
   ]
  },
  {
   "cell_type": "code",
   "execution_count": 3,
   "id": "5646d2b3",
   "metadata": {
    "execution": {
     "iopub.execute_input": "2023-07-05T17:35:48.991717Z",
     "iopub.status.busy": "2023-07-05T17:35:48.991269Z",
     "iopub.status.idle": "2023-07-05T17:35:49.033264Z",
     "shell.execute_reply": "2023-07-05T17:35:49.031840Z"
    },
    "papermill": {
     "duration": 0.058276,
     "end_time": "2023-07-05T17:35:49.035959",
     "exception": false,
     "start_time": "2023-07-05T17:35:48.977683",
     "status": "completed"
    },
    "tags": []
   },
   "outputs": [
    {
     "data": {
      "text/html": [
       "<div>\n",
       "<style scoped>\n",
       "    .dataframe tbody tr th:only-of-type {\n",
       "        vertical-align: middle;\n",
       "    }\n",
       "\n",
       "    .dataframe tbody tr th {\n",
       "        vertical-align: top;\n",
       "    }\n",
       "\n",
       "    .dataframe thead th {\n",
       "        text-align: right;\n",
       "    }\n",
       "</style>\n",
       "<table border=\"1\" class=\"dataframe\">\n",
       "  <thead>\n",
       "    <tr style=\"text-align: right;\">\n",
       "      <th></th>\n",
       "      <th>ID</th>\n",
       "      <th>area</th>\n",
       "      <th>perimeter</th>\n",
       "      <th>compactness</th>\n",
       "      <th>kernelLength</th>\n",
       "      <th>kernelWidth</th>\n",
       "      <th>asymmetryCoefficient</th>\n",
       "      <th>kernelGrooveLength.</th>\n",
       "      <th>Type</th>\n",
       "    </tr>\n",
       "  </thead>\n",
       "  <tbody>\n",
       "    <tr>\n",
       "      <th>0</th>\n",
       "      <td>1</td>\n",
       "      <td>18.59</td>\n",
       "      <td>16.05</td>\n",
       "      <td>0.9066</td>\n",
       "      <td>6.037</td>\n",
       "      <td>3.860</td>\n",
       "      <td>6.001</td>\n",
       "      <td>5.877</td>\n",
       "      <td>2</td>\n",
       "    </tr>\n",
       "    <tr>\n",
       "      <th>1</th>\n",
       "      <td>2</td>\n",
       "      <td>11.18</td>\n",
       "      <td>12.72</td>\n",
       "      <td>0.8680</td>\n",
       "      <td>5.009</td>\n",
       "      <td>2.810</td>\n",
       "      <td>4.051</td>\n",
       "      <td>4.828</td>\n",
       "      <td>3</td>\n",
       "    </tr>\n",
       "    <tr>\n",
       "      <th>2</th>\n",
       "      <td>3</td>\n",
       "      <td>15.99</td>\n",
       "      <td>14.89</td>\n",
       "      <td>0.9064</td>\n",
       "      <td>5.363</td>\n",
       "      <td>3.582</td>\n",
       "      <td>3.336</td>\n",
       "      <td>5.144</td>\n",
       "      <td>2</td>\n",
       "    </tr>\n",
       "    <tr>\n",
       "      <th>3</th>\n",
       "      <td>4</td>\n",
       "      <td>15.38</td>\n",
       "      <td>14.90</td>\n",
       "      <td>0.8706</td>\n",
       "      <td>5.884</td>\n",
       "      <td>3.268</td>\n",
       "      <td>4.462</td>\n",
       "      <td>5.795</td>\n",
       "      <td>2</td>\n",
       "    </tr>\n",
       "    <tr>\n",
       "      <th>4</th>\n",
       "      <td>5</td>\n",
       "      <td>19.15</td>\n",
       "      <td>16.45</td>\n",
       "      <td>0.8890</td>\n",
       "      <td>6.245</td>\n",
       "      <td>3.815</td>\n",
       "      <td>3.084</td>\n",
       "      <td>6.185</td>\n",
       "      <td>2</td>\n",
       "    </tr>\n",
       "  </tbody>\n",
       "</table>\n",
       "</div>"
      ],
      "text/plain": [
       "   ID   area  perimeter  compactness  kernelLength  kernelWidth  \\\n",
       "0   1  18.59      16.05       0.9066         6.037        3.860   \n",
       "1   2  11.18      12.72       0.8680         5.009        2.810   \n",
       "2   3  15.99      14.89       0.9064         5.363        3.582   \n",
       "3   4  15.38      14.90       0.8706         5.884        3.268   \n",
       "4   5  19.15      16.45       0.8890         6.245        3.815   \n",
       "\n",
       "   asymmetryCoefficient  kernelGrooveLength.  Type  \n",
       "0                 6.001                5.877     2  \n",
       "1                 4.051                4.828     3  \n",
       "2                 3.336                5.144     2  \n",
       "3                 4.462                5.795     2  \n",
       "4                 3.084                6.185     2  "
      ]
     },
     "execution_count": 3,
     "metadata": {},
     "output_type": "execute_result"
    }
   ],
   "source": [
    "df_train.head()"
   ]
  },
  {
   "cell_type": "code",
   "execution_count": 4,
   "id": "507da9fa",
   "metadata": {
    "execution": {
     "iopub.execute_input": "2023-07-05T17:35:49.063153Z",
     "iopub.status.busy": "2023-07-05T17:35:49.062755Z",
     "iopub.status.idle": "2023-07-05T17:35:49.097892Z",
     "shell.execute_reply": "2023-07-05T17:35:49.096461Z"
    },
    "papermill": {
     "duration": 0.051764,
     "end_time": "2023-07-05T17:35:49.100633",
     "exception": false,
     "start_time": "2023-07-05T17:35:49.048869",
     "status": "completed"
    },
    "tags": []
   },
   "outputs": [
    {
     "name": "stdout",
     "output_type": "stream",
     "text": [
      "<class 'pandas.core.frame.DataFrame'>\n",
      "RangeIndex: 140 entries, 0 to 139\n",
      "Data columns (total 9 columns):\n",
      " #   Column                Non-Null Count  Dtype  \n",
      "---  ------                --------------  -----  \n",
      " 0   ID                    140 non-null    int64  \n",
      " 1   area                  140 non-null    float64\n",
      " 2   perimeter             140 non-null    float64\n",
      " 3   compactness           140 non-null    float64\n",
      " 4   kernelLength          140 non-null    float64\n",
      " 5   kernelWidth           140 non-null    float64\n",
      " 6   asymmetryCoefficient  140 non-null    float64\n",
      " 7   kernelGrooveLength.   140 non-null    float64\n",
      " 8   Type                  140 non-null    int64  \n",
      "dtypes: float64(7), int64(2)\n",
      "memory usage: 10.0 KB\n"
     ]
    }
   ],
   "source": [
    "df_train.info()"
   ]
  },
  {
   "cell_type": "code",
   "execution_count": 5,
   "id": "78e90a40",
   "metadata": {
    "execution": {
     "iopub.execute_input": "2023-07-05T17:35:49.128518Z",
     "iopub.status.busy": "2023-07-05T17:35:49.127941Z",
     "iopub.status.idle": "2023-07-05T17:35:49.150407Z",
     "shell.execute_reply": "2023-07-05T17:35:49.149055Z"
    },
    "papermill": {
     "duration": 0.039292,
     "end_time": "2023-07-05T17:35:49.153075",
     "exception": false,
     "start_time": "2023-07-05T17:35:49.113783",
     "status": "completed"
    },
    "tags": []
   },
   "outputs": [
    {
     "data": {
      "text/html": [
       "<div>\n",
       "<style scoped>\n",
       "    .dataframe tbody tr th:only-of-type {\n",
       "        vertical-align: middle;\n",
       "    }\n",
       "\n",
       "    .dataframe tbody tr th {\n",
       "        vertical-align: top;\n",
       "    }\n",
       "\n",
       "    .dataframe thead th {\n",
       "        text-align: right;\n",
       "    }\n",
       "</style>\n",
       "<table border=\"1\" class=\"dataframe\">\n",
       "  <thead>\n",
       "    <tr style=\"text-align: right;\">\n",
       "      <th></th>\n",
       "      <th>ID</th>\n",
       "      <th>area</th>\n",
       "      <th>perimeter</th>\n",
       "      <th>compactness</th>\n",
       "      <th>kernelLength</th>\n",
       "      <th>kernelWidth</th>\n",
       "      <th>asymmetryCoefficient</th>\n",
       "      <th>kernelGrooveLength.</th>\n",
       "      <th>Type</th>\n",
       "    </tr>\n",
       "  </thead>\n",
       "  <tbody>\n",
       "    <tr>\n",
       "      <th>ID</th>\n",
       "      <td>1.000000</td>\n",
       "      <td>-0.060870</td>\n",
       "      <td>-0.047059</td>\n",
       "      <td>-0.113844</td>\n",
       "      <td>-0.007439</td>\n",
       "      <td>-0.066899</td>\n",
       "      <td>-0.014867</td>\n",
       "      <td>-0.036654</td>\n",
       "      <td>-0.030905</td>\n",
       "    </tr>\n",
       "    <tr>\n",
       "      <th>area</th>\n",
       "      <td>-0.060870</td>\n",
       "      <td>1.000000</td>\n",
       "      <td>0.993936</td>\n",
       "      <td>0.618421</td>\n",
       "      <td>0.946361</td>\n",
       "      <td>0.969466</td>\n",
       "      <td>-0.271647</td>\n",
       "      <td>0.861363</td>\n",
       "      <td>-0.388750</td>\n",
       "    </tr>\n",
       "    <tr>\n",
       "      <th>perimeter</th>\n",
       "      <td>-0.047059</td>\n",
       "      <td>0.993936</td>\n",
       "      <td>1.000000</td>\n",
       "      <td>0.537243</td>\n",
       "      <td>0.969843</td>\n",
       "      <td>0.942110</td>\n",
       "      <td>-0.266027</td>\n",
       "      <td>0.890112</td>\n",
       "      <td>-0.376535</td>\n",
       "    </tr>\n",
       "    <tr>\n",
       "      <th>compactness</th>\n",
       "      <td>-0.113844</td>\n",
       "      <td>0.618421</td>\n",
       "      <td>0.537243</td>\n",
       "      <td>1.000000</td>\n",
       "      <td>0.368590</td>\n",
       "      <td>0.772758</td>\n",
       "      <td>-0.311632</td>\n",
       "      <td>0.221165</td>\n",
       "      <td>-0.515699</td>\n",
       "    </tr>\n",
       "    <tr>\n",
       "      <th>kernelLength</th>\n",
       "      <td>-0.007439</td>\n",
       "      <td>0.946361</td>\n",
       "      <td>0.969843</td>\n",
       "      <td>0.368590</td>\n",
       "      <td>1.000000</td>\n",
       "      <td>0.851641</td>\n",
       "      <td>-0.225251</td>\n",
       "      <td>0.936122</td>\n",
       "      <td>-0.303241</td>\n",
       "    </tr>\n",
       "    <tr>\n",
       "      <th>kernelWidth</th>\n",
       "      <td>-0.066899</td>\n",
       "      <td>0.969466</td>\n",
       "      <td>0.942110</td>\n",
       "      <td>0.772758</td>\n",
       "      <td>0.851641</td>\n",
       "      <td>1.000000</td>\n",
       "      <td>-0.280802</td>\n",
       "      <td>0.741591</td>\n",
       "      <td>-0.450539</td>\n",
       "    </tr>\n",
       "    <tr>\n",
       "      <th>asymmetryCoefficient</th>\n",
       "      <td>-0.014867</td>\n",
       "      <td>-0.271647</td>\n",
       "      <td>-0.266027</td>\n",
       "      <td>-0.311632</td>\n",
       "      <td>-0.225251</td>\n",
       "      <td>-0.280802</td>\n",
       "      <td>1.000000</td>\n",
       "      <td>-0.055192</td>\n",
       "      <td>0.614652</td>\n",
       "    </tr>\n",
       "    <tr>\n",
       "      <th>kernelGrooveLength.</th>\n",
       "      <td>-0.036654</td>\n",
       "      <td>0.861363</td>\n",
       "      <td>0.890112</td>\n",
       "      <td>0.221165</td>\n",
       "      <td>0.936122</td>\n",
       "      <td>0.741591</td>\n",
       "      <td>-0.055192</td>\n",
       "      <td>1.000000</td>\n",
       "      <td>-0.026355</td>\n",
       "    </tr>\n",
       "    <tr>\n",
       "      <th>Type</th>\n",
       "      <td>-0.030905</td>\n",
       "      <td>-0.388750</td>\n",
       "      <td>-0.376535</td>\n",
       "      <td>-0.515699</td>\n",
       "      <td>-0.303241</td>\n",
       "      <td>-0.450539</td>\n",
       "      <td>0.614652</td>\n",
       "      <td>-0.026355</td>\n",
       "      <td>1.000000</td>\n",
       "    </tr>\n",
       "  </tbody>\n",
       "</table>\n",
       "</div>"
      ],
      "text/plain": [
       "                            ID      area  perimeter  compactness  \\\n",
       "ID                    1.000000 -0.060870  -0.047059    -0.113844   \n",
       "area                 -0.060870  1.000000   0.993936     0.618421   \n",
       "perimeter            -0.047059  0.993936   1.000000     0.537243   \n",
       "compactness          -0.113844  0.618421   0.537243     1.000000   \n",
       "kernelLength         -0.007439  0.946361   0.969843     0.368590   \n",
       "kernelWidth          -0.066899  0.969466   0.942110     0.772758   \n",
       "asymmetryCoefficient -0.014867 -0.271647  -0.266027    -0.311632   \n",
       "kernelGrooveLength.  -0.036654  0.861363   0.890112     0.221165   \n",
       "Type                 -0.030905 -0.388750  -0.376535    -0.515699   \n",
       "\n",
       "                      kernelLength  kernelWidth  asymmetryCoefficient  \\\n",
       "ID                       -0.007439    -0.066899             -0.014867   \n",
       "area                      0.946361     0.969466             -0.271647   \n",
       "perimeter                 0.969843     0.942110             -0.266027   \n",
       "compactness               0.368590     0.772758             -0.311632   \n",
       "kernelLength              1.000000     0.851641             -0.225251   \n",
       "kernelWidth               0.851641     1.000000             -0.280802   \n",
       "asymmetryCoefficient     -0.225251    -0.280802              1.000000   \n",
       "kernelGrooveLength.       0.936122     0.741591             -0.055192   \n",
       "Type                     -0.303241    -0.450539              0.614652   \n",
       "\n",
       "                      kernelGrooveLength.      Type  \n",
       "ID                              -0.036654 -0.030905  \n",
       "area                             0.861363 -0.388750  \n",
       "perimeter                        0.890112 -0.376535  \n",
       "compactness                      0.221165 -0.515699  \n",
       "kernelLength                     0.936122 -0.303241  \n",
       "kernelWidth                      0.741591 -0.450539  \n",
       "asymmetryCoefficient            -0.055192  0.614652  \n",
       "kernelGrooveLength.              1.000000 -0.026355  \n",
       "Type                            -0.026355  1.000000  "
      ]
     },
     "execution_count": 5,
     "metadata": {},
     "output_type": "execute_result"
    }
   ],
   "source": [
    "df_train.corr()"
   ]
  },
  {
   "cell_type": "code",
   "execution_count": 6,
   "id": "34c1bbcd",
   "metadata": {
    "execution": {
     "iopub.execute_input": "2023-07-05T17:35:49.184172Z",
     "iopub.status.busy": "2023-07-05T17:35:49.183700Z",
     "iopub.status.idle": "2023-07-05T17:35:49.229175Z",
     "shell.execute_reply": "2023-07-05T17:35:49.227966Z"
    },
    "papermill": {
     "duration": 0.064756,
     "end_time": "2023-07-05T17:35:49.231767",
     "exception": false,
     "start_time": "2023-07-05T17:35:49.167011",
     "status": "completed"
    },
    "tags": []
   },
   "outputs": [
    {
     "data": {
      "text/html": [
       "<div>\n",
       "<style scoped>\n",
       "    .dataframe tbody tr th:only-of-type {\n",
       "        vertical-align: middle;\n",
       "    }\n",
       "\n",
       "    .dataframe tbody tr th {\n",
       "        vertical-align: top;\n",
       "    }\n",
       "\n",
       "    .dataframe thead th {\n",
       "        text-align: right;\n",
       "    }\n",
       "</style>\n",
       "<table border=\"1\" class=\"dataframe\">\n",
       "  <thead>\n",
       "    <tr style=\"text-align: right;\">\n",
       "      <th></th>\n",
       "      <th>ID</th>\n",
       "      <th>area</th>\n",
       "      <th>perimeter</th>\n",
       "      <th>compactness</th>\n",
       "      <th>kernelLength</th>\n",
       "      <th>kernelWidth</th>\n",
       "      <th>asymmetryCoefficient</th>\n",
       "      <th>kernelGrooveLength.</th>\n",
       "      <th>Type</th>\n",
       "    </tr>\n",
       "  </thead>\n",
       "  <tbody>\n",
       "    <tr>\n",
       "      <th>count</th>\n",
       "      <td>140.0000</td>\n",
       "      <td>140.000000</td>\n",
       "      <td>140.000000</td>\n",
       "      <td>140.000000</td>\n",
       "      <td>140.000000</td>\n",
       "      <td>140.000000</td>\n",
       "      <td>140.000000</td>\n",
       "      <td>140.000000</td>\n",
       "      <td>140.000000</td>\n",
       "    </tr>\n",
       "    <tr>\n",
       "      <th>mean</th>\n",
       "      <td>70.5000</td>\n",
       "      <td>14.795214</td>\n",
       "      <td>14.531071</td>\n",
       "      <td>0.871806</td>\n",
       "      <td>5.619950</td>\n",
       "      <td>3.256829</td>\n",
       "      <td>3.763266</td>\n",
       "      <td>5.393529</td>\n",
       "      <td>2.021429</td>\n",
       "    </tr>\n",
       "    <tr>\n",
       "      <th>std</th>\n",
       "      <td>40.5586</td>\n",
       "      <td>2.825813</td>\n",
       "      <td>1.264163</td>\n",
       "      <td>0.023107</td>\n",
       "      <td>0.435769</td>\n",
       "      <td>0.370524</td>\n",
       "      <td>1.611004</td>\n",
       "      <td>0.477433</td>\n",
       "      <td>0.835092</td>\n",
       "    </tr>\n",
       "    <tr>\n",
       "      <th>min</th>\n",
       "      <td>1.0000</td>\n",
       "      <td>10.740000</td>\n",
       "      <td>12.570000</td>\n",
       "      <td>0.808100</td>\n",
       "      <td>4.981000</td>\n",
       "      <td>2.641000</td>\n",
       "      <td>0.765100</td>\n",
       "      <td>4.605000</td>\n",
       "      <td>1.000000</td>\n",
       "    </tr>\n",
       "    <tr>\n",
       "      <th>25%</th>\n",
       "      <td>35.7500</td>\n",
       "      <td>12.345000</td>\n",
       "      <td>13.467500</td>\n",
       "      <td>0.857300</td>\n",
       "      <td>5.259000</td>\n",
       "      <td>2.959000</td>\n",
       "      <td>2.642000</td>\n",
       "      <td>5.036000</td>\n",
       "      <td>1.000000</td>\n",
       "    </tr>\n",
       "    <tr>\n",
       "      <th>50%</th>\n",
       "      <td>70.5000</td>\n",
       "      <td>14.315000</td>\n",
       "      <td>14.285000</td>\n",
       "      <td>0.872600</td>\n",
       "      <td>5.488500</td>\n",
       "      <td>3.243500</td>\n",
       "      <td>3.721500</td>\n",
       "      <td>5.219500</td>\n",
       "      <td>2.000000</td>\n",
       "    </tr>\n",
       "    <tr>\n",
       "      <th>75%</th>\n",
       "      <td>105.2500</td>\n",
       "      <td>16.922500</td>\n",
       "      <td>15.655000</td>\n",
       "      <td>0.888075</td>\n",
       "      <td>5.979000</td>\n",
       "      <td>3.531750</td>\n",
       "      <td>4.833000</td>\n",
       "      <td>5.795000</td>\n",
       "      <td>3.000000</td>\n",
       "    </tr>\n",
       "    <tr>\n",
       "      <th>max</th>\n",
       "      <td>140.0000</td>\n",
       "      <td>21.180000</td>\n",
       "      <td>17.210000</td>\n",
       "      <td>0.918300</td>\n",
       "      <td>6.675000</td>\n",
       "      <td>4.033000</td>\n",
       "      <td>8.456000</td>\n",
       "      <td>6.550000</td>\n",
       "      <td>3.000000</td>\n",
       "    </tr>\n",
       "  </tbody>\n",
       "</table>\n",
       "</div>"
      ],
      "text/plain": [
       "             ID        area   perimeter  compactness  kernelLength  \\\n",
       "count  140.0000  140.000000  140.000000   140.000000    140.000000   \n",
       "mean    70.5000   14.795214   14.531071     0.871806      5.619950   \n",
       "std     40.5586    2.825813    1.264163     0.023107      0.435769   \n",
       "min      1.0000   10.740000   12.570000     0.808100      4.981000   \n",
       "25%     35.7500   12.345000   13.467500     0.857300      5.259000   \n",
       "50%     70.5000   14.315000   14.285000     0.872600      5.488500   \n",
       "75%    105.2500   16.922500   15.655000     0.888075      5.979000   \n",
       "max    140.0000   21.180000   17.210000     0.918300      6.675000   \n",
       "\n",
       "       kernelWidth  asymmetryCoefficient  kernelGrooveLength.        Type  \n",
       "count   140.000000            140.000000           140.000000  140.000000  \n",
       "mean      3.256829              3.763266             5.393529    2.021429  \n",
       "std       0.370524              1.611004             0.477433    0.835092  \n",
       "min       2.641000              0.765100             4.605000    1.000000  \n",
       "25%       2.959000              2.642000             5.036000    1.000000  \n",
       "50%       3.243500              3.721500             5.219500    2.000000  \n",
       "75%       3.531750              4.833000             5.795000    3.000000  \n",
       "max       4.033000              8.456000             6.550000    3.000000  "
      ]
     },
     "execution_count": 6,
     "metadata": {},
     "output_type": "execute_result"
    }
   ],
   "source": [
    "df_train.describe()"
   ]
  },
  {
   "cell_type": "markdown",
   "id": "d4d29ad2",
   "metadata": {
    "papermill": {
     "duration": 0.013368,
     "end_time": "2023-07-05T17:35:49.258714",
     "exception": false,
     "start_time": "2023-07-05T17:35:49.245346",
     "status": "completed"
    },
    "tags": []
   },
   "source": [
    "## Plotting the correlation"
   ]
  },
  {
   "cell_type": "code",
   "execution_count": 7,
   "id": "c14aeca2",
   "metadata": {
    "execution": {
     "iopub.execute_input": "2023-07-05T17:35:49.288604Z",
     "iopub.status.busy": "2023-07-05T17:35:49.287323Z",
     "iopub.status.idle": "2023-07-05T17:35:51.652767Z",
     "shell.execute_reply": "2023-07-05T17:35:51.651489Z"
    },
    "papermill": {
     "duration": 2.383916,
     "end_time": "2023-07-05T17:35:51.656255",
     "exception": false,
     "start_time": "2023-07-05T17:35:49.272339",
     "status": "completed"
    },
    "tags": []
   },
   "outputs": [
    {
     "data": {
      "text/plain": [
       "<Axes: >"
      ]
     },
     "execution_count": 7,
     "metadata": {},
     "output_type": "execute_result"
    },
    {
     "data": {
      "image/png": "[encoded data removed]",
      "text/plain": [
       "<Figure size 640x480 with 2 Axes>"
      ]
     },
     "metadata": {},
     "output_type": "display_data"
    }
   ],
   "source": [
    "import seaborn as sns\n",
    "import matplotlib as plt\n",
    "sns.heatmap(df_train.corr()) #Correlation among the attributes"
   ]
  },
  {
   "cell_type": "code",
   "execution_count": 8,
   "id": "26ed158d",
   "metadata": {
    "execution": {
     "iopub.execute_input": "2023-07-05T17:35:51.692123Z",
     "iopub.status.busy": "2023-07-05T17:35:51.691697Z",
     "iopub.status.idle": "2023-07-05T17:35:51.702617Z",
     "shell.execute_reply": "2023-07-05T17:35:51.700940Z"
    },
    "papermill": {
     "duration": 0.030061,
     "end_time": "2023-07-05T17:35:51.706113",
     "exception": false,
     "start_time": "2023-07-05T17:35:51.676052",
     "status": "completed"
    },
    "tags": []
   },
   "outputs": [
    {
     "data": {
      "text/plain": [
       "ID                     -0.030905\n",
       "area                   -0.388750\n",
       "perimeter              -0.376535\n",
       "compactness            -0.515699\n",
       "kernelLength           -0.303241\n",
       "kernelWidth            -0.450539\n",
       "asymmetryCoefficient    0.614652\n",
       "kernelGrooveLength.    -0.026355\n",
       "Type                    1.000000\n",
       "Name: Type, dtype: float64"
      ]
     },
     "execution_count": 8,
     "metadata": {},
     "output_type": "execute_result"
    }
   ],
   "source": [
    "cvals = df_train.corr()['Type'] #Correlation w.r.t Target variable\n",
    "cvals "
   ]
  },
  {
   "cell_type": "markdown",
   "id": "f8cef6ae",
   "metadata": {
    "papermill": {
     "duration": 0.014461,
     "end_time": "2023-07-05T17:35:51.737943",
     "exception": false,
     "start_time": "2023-07-05T17:35:51.723482",
     "status": "completed"
    },
    "tags": []
   },
   "source": [
    "## Data pre-processing"
   ]
  },
  {
   "cell_type": "code",
   "execution_count": 9,
   "id": "2205fbf3",
   "metadata": {
    "execution": {
     "iopub.execute_input": "2023-07-05T17:35:51.768141Z",
     "iopub.status.busy": "2023-07-05T17:35:51.767765Z",
     "iopub.status.idle": "2023-07-05T17:35:51.999729Z",
     "shell.execute_reply": "2023-07-05T17:35:51.998580Z"
    },
    "papermill": {
     "duration": 0.250142,
     "end_time": "2023-07-05T17:35:52.002398",
     "exception": false,
     "start_time": "2023-07-05T17:35:51.752256",
     "status": "completed"
    },
    "tags": []
   },
   "outputs": [
    {
     "data": {
      "text/html": [
       "<div>\n",
       "<style scoped>\n",
       "    .dataframe tbody tr th:only-of-type {\n",
       "        vertical-align: middle;\n",
       "    }\n",
       "\n",
       "    .dataframe tbody tr th {\n",
       "        vertical-align: top;\n",
       "    }\n",
       "\n",
       "    .dataframe thead th {\n",
       "        text-align: right;\n",
       "    }\n",
       "</style>\n",
       "<table border=\"1\" class=\"dataframe\">\n",
       "  <thead>\n",
       "    <tr style=\"text-align: right;\">\n",
       "      <th></th>\n",
       "      <th>area</th>\n",
       "      <th>perimeter</th>\n",
       "      <th>compactness</th>\n",
       "      <th>kernelLength</th>\n",
       "      <th>kernelWidth</th>\n",
       "      <th>asymmetryCoefficient</th>\n",
       "      <th>kernelGrooveLength.</th>\n",
       "    </tr>\n",
       "  </thead>\n",
       "  <tbody>\n",
       "    <tr>\n",
       "      <th>0</th>\n",
       "      <td>18.59</td>\n",
       "      <td>16.05</td>\n",
       "      <td>0.9066</td>\n",
       "      <td>6.037</td>\n",
       "      <td>3.860</td>\n",
       "      <td>6.001</td>\n",
       "      <td>5.877</td>\n",
       "    </tr>\n",
       "    <tr>\n",
       "      <th>1</th>\n",
       "      <td>11.18</td>\n",
       "      <td>12.72</td>\n",
       "      <td>0.8680</td>\n",
       "      <td>5.009</td>\n",
       "      <td>2.810</td>\n",
       "      <td>4.051</td>\n",
       "      <td>4.828</td>\n",
       "    </tr>\n",
       "    <tr>\n",
       "      <th>2</th>\n",
       "      <td>15.99</td>\n",
       "      <td>14.89</td>\n",
       "      <td>0.9064</td>\n",
       "      <td>5.363</td>\n",
       "      <td>3.582</td>\n",
       "      <td>3.336</td>\n",
       "      <td>5.144</td>\n",
       "    </tr>\n",
       "    <tr>\n",
       "      <th>3</th>\n",
       "      <td>15.38</td>\n",
       "      <td>14.90</td>\n",
       "      <td>0.8706</td>\n",
       "      <td>5.884</td>\n",
       "      <td>3.268</td>\n",
       "      <td>4.462</td>\n",
       "      <td>5.795</td>\n",
       "    </tr>\n",
       "    <tr>\n",
       "      <th>4</th>\n",
       "      <td>19.15</td>\n",
       "      <td>16.45</td>\n",
       "      <td>0.8890</td>\n",
       "      <td>6.245</td>\n",
       "      <td>3.815</td>\n",
       "      <td>3.084</td>\n",
       "      <td>6.185</td>\n",
       "    </tr>\n",
       "  </tbody>\n",
       "</table>\n",
       "</div>"
      ],
      "text/plain": [
       "    area  perimeter  compactness  kernelLength  kernelWidth  \\\n",
       "0  18.59      16.05       0.9066         6.037        3.860   \n",
       "1  11.18      12.72       0.8680         5.009        2.810   \n",
       "2  15.99      14.89       0.9064         5.363        3.582   \n",
       "3  15.38      14.90       0.8706         5.884        3.268   \n",
       "4  19.15      16.45       0.8890         6.245        3.815   \n",
       "\n",
       "   asymmetryCoefficient  kernelGrooveLength.  \n",
       "0                 6.001                5.877  \n",
       "1                 4.051                4.828  \n",
       "2                 3.336                5.144  \n",
       "3                 4.462                5.795  \n",
       "4                 3.084                6.185  "
      ]
     },
     "execution_count": 9,
     "metadata": {},
     "output_type": "execute_result"
    }
   ],
   "source": [
    "from sklearn.preprocessing import MinMaxScaler\n",
    "scale = MinMaxScaler()\n",
    "X = df_train.drop([\"Type\",\"ID\"],axis = \"columns\")\n",
    "X.head()"
   ]
  },
  {
   "cell_type": "code",
   "execution_count": 10,
   "id": "52521cdf",
   "metadata": {
    "execution": {
     "iopub.execute_input": "2023-07-05T17:35:52.034431Z",
     "iopub.status.busy": "2023-07-05T17:35:52.033975Z",
     "iopub.status.idle": "2023-07-05T17:35:52.044113Z",
     "shell.execute_reply": "2023-07-05T17:35:52.042951Z"
    },
    "papermill": {
     "duration": 0.029555,
     "end_time": "2023-07-05T17:35:52.047116",
     "exception": false,
     "start_time": "2023-07-05T17:35:52.017561",
     "status": "completed"
    },
    "tags": []
   },
   "outputs": [],
   "source": [
    "y = df_train['Type']\n",
    "X = scale.fit_transform(X,y)\n",
    "# X"
   ]
  },
  {
   "cell_type": "markdown",
   "id": "048c200c",
   "metadata": {
    "papermill": {
     "duration": 0.014077,
     "end_time": "2023-07-05T17:35:52.076075",
     "exception": false,
     "start_time": "2023-07-05T17:35:52.061998",
     "status": "completed"
    },
    "tags": []
   },
   "source": [
    "## K-Fold"
   ]
  },
  {
   "cell_type": "code",
   "execution_count": 11,
   "id": "31c26de3",
   "metadata": {
    "execution": {
     "iopub.execute_input": "2023-07-05T17:35:52.107877Z",
     "iopub.status.busy": "2023-07-05T17:35:52.107446Z",
     "iopub.status.idle": "2023-07-05T17:35:52.256156Z",
     "shell.execute_reply": "2023-07-05T17:35:52.255141Z"
    },
    "papermill": {
     "duration": 0.168479,
     "end_time": "2023-07-05T17:35:52.259345",
     "exception": false,
     "start_time": "2023-07-05T17:35:52.090866",
     "status": "completed"
    },
    "tags": []
   },
   "outputs": [],
   "source": [
    "from sklearn.model_selection import StratifiedKFold\n",
    "skf = StratifiedKFold(n_splits=4)"
   ]
  },
  {
   "cell_type": "code",
   "execution_count": 12,
   "id": "e01de0a8",
   "metadata": {
    "execution": {
     "iopub.execute_input": "2023-07-05T17:35:52.293982Z",
     "iopub.status.busy": "2023-07-05T17:35:52.293576Z",
     "iopub.status.idle": "2023-07-05T17:35:52.422590Z",
     "shell.execute_reply": "2023-07-05T17:35:52.421067Z"
    },
    "papermill": {
     "duration": 0.147919,
     "end_time": "2023-07-05T17:35:52.425533",
     "exception": false,
     "start_time": "2023-07-05T17:35:52.277614",
     "status": "completed"
    },
    "tags": []
   },
   "outputs": [],
   "source": [
    "from sklearn.svm import SVC\n",
    "svc = SVC()"
   ]
  },
  {
   "cell_type": "markdown",
   "id": "5b552fb3",
   "metadata": {
    "papermill": {
     "duration": 0.018895,
     "end_time": "2023-07-05T17:35:52.463482",
     "exception": false,
     "start_time": "2023-07-05T17:35:52.444587",
     "status": "completed"
    },
    "tags": []
   },
   "source": [
    "## Using GridSearch for Cross Validation"
   ]
  },
  {
   "cell_type": "code",
   "execution_count": 13,
   "id": "8a8466be",
   "metadata": {
    "execution": {
     "iopub.execute_input": "2023-07-05T17:35:52.506230Z",
     "iopub.status.busy": "2023-07-05T17:35:52.505210Z",
     "iopub.status.idle": "2023-07-05T17:35:57.149994Z",
     "shell.execute_reply": "2023-07-05T17:35:57.148519Z"
    },
    "papermill": {
     "duration": 4.66738,
     "end_time": "2023-07-05T17:35:57.152863",
     "exception": false,
     "start_time": "2023-07-05T17:35:52.485483",
     "status": "completed"
    },
    "tags": []
   },
   "outputs": [
    {
     "data": {
      "text/html": [
       "<style>#sk-container-id-1 {color: black;background-color: white;}#sk-container-id-1 pre{padding: 0;}#sk-container-id-1 div.sk-toggleable {background-color: white;}#sk-container-id-1 label.sk-toggleable__label {cursor: pointer;display: block;width: 100%;margin-bottom: 0;padding: 0.3em;box-sizing: border-box;text-align: center;}#sk-container-id-1 label.sk-toggleable__label-arrow:before {content: \"▸\";float: left;margin-right: 0.25em;color: #696969;}#sk-container-id-1 label.sk-toggleable__label-arrow:hover:before {color: black;}#sk-container-id-1 div.sk-estimator:hover label.sk-toggleable__label-arrow:before {color: black;}#sk-container-id-1 div.sk-toggleable__content {max-height: 0;max-width: 0;overflow: hidden;text-align: left;background-color: #f0f8ff;}#sk-container-id-1 div.sk-toggleable__content pre {margin: 0.2em;color: black;border-radius: 0.25em;background-color: #f0f8ff;}#sk-container-id-1 input.sk-toggleable__control:checked~div.sk-toggleable__content {max-height: 200px;max-width: 100%;overflow: auto;}#sk-container-id-1 input.sk-toggleable__control:checked~label.sk-toggleable__label-arrow:before {content: \"▾\";}#sk-container-id-1 div.sk-estimator input.sk-toggleable__control:checked~label.sk-toggleable__label {background-color: #d4ebff;}#sk-container-id-1 div.sk-label input.sk-toggleable__control:checked~label.sk-toggleable__label {background-color: #d4ebff;}#sk-container-id-1 input.sk-hidden--visually {border: 0;clip: rect(1px 1px 1px 1px);clip: rect(1px, 1px, 1px, 1px);height: 1px;margin: -1px;overflow: hidden;padding: 0;position: absolute;width: 1px;}#sk-container-id-1 div.sk-estimator {font-family: monospace;background-color: #f0f8ff;border: 1px dotted black;border-radius: 0.25em;box-sizing: border-box;margin-bottom: 0.5em;}#sk-container-id-1 div.sk-estimator:hover {background-color: #d4ebff;}#sk-container-id-1 div.sk-parallel-item::after {content: \"\";width: 100%;border-bottom: 1px solid gray;flex-grow: 1;}#sk-container-id-1 div.sk-label:hover label.sk-toggleable__label {background-color: #d4ebff;}#sk-container-id-1 div.sk-serial::before {content: \"\";position: absolute;border-left: 1px solid gray;box-sizing: border-box;top: 0;bottom: 0;left: 50%;z-index: 0;}#sk-container-id-1 div.sk-serial {display: flex;flex-direction: column;align-items: center;background-color: white;padding-right: 0.2em;padding-left: 0.2em;position: relative;}#sk-container-id-1 div.sk-item {position: relative;z-index: 1;}#sk-container-id-1 div.sk-parallel {display: flex;align-items: stretch;justify-content: center;background-color: white;position: relative;}#sk-container-id-1 div.sk-item::before, #sk-container-id-1 div.sk-parallel-item::before {content: \"\";position: absolute;border-left: 1px solid gray;box-sizing: border-box;top: 0;bottom: 0;left: 50%;z-index: -1;}#sk-container-id-1 div.sk-parallel-item {display: flex;flex-direction: column;z-index: 1;position: relative;background-color: white;}#sk-container-id-1 div.sk-parallel-item:first-child::after {align-self: flex-end;width: 50%;}#sk-container-id-1 div.sk-parallel-item:last-child::after {align-self: flex-start;width: 50%;}#sk-container-id-1 div.sk-parallel-item:only-child::after {width: 0;}#sk-container-id-1 div.sk-dashed-wrapped {border: 1px dashed gray;margin: 0 0.4em 0.5em 0.4em;box-sizing: border-box;padding-bottom: 0.4em;background-color: white;}#sk-container-id-1 div.sk-label label {font-family: monospace;font-weight: bold;display: inline-block;line-height: 1.2em;}#sk-container-id-1 div.sk-label-container {text-align: center;}#sk-container-id-1 div.sk-container {/* jupyter's `normalize.less` sets `[hidden] { display: none; }` but bootstrap.min.css set `[hidden] { display: none !important; }` so we also need the `!important` here to be able to override the default hidden behavior on the sphinx rendered scikit-learn.org. See: https://github.com/scikit-learn/scikit-learn/issues/21755 */display: inline-block !important;position: relative;}#sk-container-id-1 div.sk-text-repr-fallback {display: none;}</style><div id=\"sk-container-id-1\" class=\"sk-top-container\"><div class=\"sk-text-repr-fallback\"><pre>GridSearchCV(cv=StratifiedKFold(n_splits=4, random_state=None, shuffle=False),\n",
       "             estimator=SVC(),\n",
       "             param_grid={&#x27;C&#x27;: [0.5, 1, 3, 4, 5, 7, 10],\n",
       "                         &#x27;kernel&#x27;: [&#x27;linear&#x27;, &#x27;rbf&#x27;, &#x27;sigmoid&#x27;, &#x27;poly&#x27;],\n",
       "                         &#x27;random_state&#x27;: [1, 2, 3, 4, 5, 6, 7, 8, 9, 10]})</pre><b>In a Jupyter environment, please rerun this cell to show the HTML representation or trust the notebook. <br />On GitHub, the HTML representation is unable to render, please try loading this page with nbviewer.org.</b></div><div class=\"sk-container\" hidden><div class=\"sk-item sk-dashed-wrapped\"><div class=\"sk-label-container\"><div class=\"sk-label sk-toggleable\"><input class=\"sk-toggleable__control sk-hidden--visually\" id=\"sk-estimator-id-1\" type=\"checkbox\" ><label for=\"sk-estimator-id-1\" class=\"sk-toggleable__label sk-toggleable__label-arrow\">GridSearchCV</label><div class=\"sk-toggleable__content\"><pre>GridSearchCV(cv=StratifiedKFold(n_splits=4, random_state=None, shuffle=False),\n",
       "             estimator=SVC(),\n",
       "             param_grid={&#x27;C&#x27;: [0.5, 1, 3, 4, 5, 7, 10],\n",
       "                         &#x27;kernel&#x27;: [&#x27;linear&#x27;, &#x27;rbf&#x27;, &#x27;sigmoid&#x27;, &#x27;poly&#x27;],\n",
       "                         &#x27;random_state&#x27;: [1, 2, 3, 4, 5, 6, 7, 8, 9, 10]})</pre></div></div></div><div class=\"sk-parallel\"><div class=\"sk-parallel-item\"><div class=\"sk-item\"><div class=\"sk-label-container\"><div class=\"sk-label sk-toggleable\"><input class=\"sk-toggleable__control sk-hidden--visually\" id=\"sk-estimator-id-2\" type=\"checkbox\" ><label for=\"sk-estimator-id-2\" class=\"sk-toggleable__label sk-toggleable__label-arrow\">estimator: SVC</label><div class=\"sk-toggleable__content\"><pre>SVC()</pre></div></div></div><div class=\"sk-serial\"><div class=\"sk-item\"><div class=\"sk-estimator sk-toggleable\"><input class=\"sk-toggleable__control sk-hidden--visually\" id=\"sk-estimator-id-3\" type=\"checkbox\" ><label for=\"sk-estimator-id-3\" class=\"sk-toggleable__label sk-toggleable__label-arrow\">SVC</label><div class=\"sk-toggleable__content\"><pre>SVC()</pre></div></div></div></div></div></div></div></div></div></div>"
      ],
      "text/plain": [
       "GridSearchCV(cv=StratifiedKFold(n_splits=4, random_state=None, shuffle=False),\n",
       "             estimator=SVC(),\n",
       "             param_grid={'C': [0.5, 1, 3, 4, 5, 7, 10],\n",
       "                         'kernel': ['linear', 'rbf', 'sigmoid', 'poly'],\n",
       "                         'random_state': [1, 2, 3, 4, 5, 6, 7, 8, 9, 10]})"
      ]
     },
     "execution_count": 13,
     "metadata": {},
     "output_type": "execute_result"
    }
   ],
   "source": [
    "from sklearn.model_selection import GridSearchCV\n",
    "parameters = {'kernel':['linear', 'rbf','sigmoid', 'poly'], 'C':[0.5, 1, 3, 4, 5, 7, 10],'random_state': [x for x in range(1, 11)]}\n",
    "gscv = GridSearchCV(svc, parameters,cv=skf)\n",
    "gscv.fit(X,y)"
   ]
  },
  {
   "cell_type": "code",
   "execution_count": 14,
   "id": "3d9f3981",
   "metadata": {
    "execution": {
     "iopub.execute_input": "2023-07-05T17:35:57.186337Z",
     "iopub.status.busy": "2023-07-05T17:35:57.185923Z",
     "iopub.status.idle": "2023-07-05T17:35:57.192728Z",
     "shell.execute_reply": "2023-07-05T17:35:57.191287Z"
    },
    "papermill": {
     "duration": 0.026884,
     "end_time": "2023-07-05T17:35:57.195734",
     "exception": false,
     "start_time": "2023-07-05T17:35:57.168850",
     "status": "completed"
    },
    "tags": []
   },
   "outputs": [
    {
     "name": "stdout",
     "output_type": "stream",
     "text": [
      "Best parameters are {'C': 4, 'kernel': 'poly', 'random_state': 1}\n"
     ]
    }
   ],
   "source": [
    "print(\"Best parameters are\",gscv.best_params_)"
   ]
  },
  {
   "cell_type": "markdown",
   "id": "702173de",
   "metadata": {
    "papermill": {
     "duration": 0.014646,
     "end_time": "2023-07-05T17:35:57.225601",
     "exception": false,
     "start_time": "2023-07-05T17:35:57.210955",
     "status": "completed"
    },
    "tags": []
   },
   "source": [
    "## Accuracy using GridSearchCV Model "
   ]
  },
  {
   "cell_type": "code",
   "execution_count": 15,
   "id": "7cc14961",
   "metadata": {
    "execution": {
     "iopub.execute_input": "2023-07-05T17:35:57.258802Z",
     "iopub.status.busy": "2023-07-05T17:35:57.257386Z",
     "iopub.status.idle": "2023-07-05T17:35:57.265986Z",
     "shell.execute_reply": "2023-07-05T17:35:57.264981Z"
    },
    "papermill": {
     "duration": 0.027431,
     "end_time": "2023-07-05T17:35:57.268350",
     "exception": false,
     "start_time": "2023-07-05T17:35:57.240919",
     "status": "completed"
    },
    "tags": []
   },
   "outputs": [
    {
     "data": {
      "text/plain": [
       "0.9928571428571429"
      ]
     },
     "execution_count": 15,
     "metadata": {},
     "output_type": "execute_result"
    }
   ],
   "source": [
    "gscv.score(X,y) # This uses the best parameters"
   ]
  },
  {
   "cell_type": "markdown",
   "id": "827d8fc0",
   "metadata": {
    "papermill": {
     "duration": 0.015274,
     "end_time": "2023-07-05T17:35:57.298867",
     "exception": false,
     "start_time": "2023-07-05T17:35:57.283593",
     "status": "completed"
    },
    "tags": []
   },
   "source": [
    "## Experimenting with parameters"
   ]
  },
  {
   "cell_type": "code",
   "execution_count": 16,
   "id": "f02efa58",
   "metadata": {
    "execution": {
     "iopub.execute_input": "2023-07-05T17:35:57.331779Z",
     "iopub.status.busy": "2023-07-05T17:35:57.330973Z",
     "iopub.status.idle": "2023-07-05T17:35:57.337534Z",
     "shell.execute_reply": "2023-07-05T17:35:57.336073Z"
    },
    "papermill": {
     "duration": 0.027232,
     "end_time": "2023-07-05T17:35:57.341480",
     "exception": false,
     "start_time": "2023-07-05T17:35:57.314248",
     "status": "completed"
    },
    "tags": []
   },
   "outputs": [],
   "source": [
    "from sklearn.model_selection import train_test_split\n",
    "Xtrain, Xtest, ytrain, ytest = train_test_split(X,y,train_size=0.70,test_size=0.30)"
   ]
  },
  {
   "cell_type": "code",
   "execution_count": 17,
   "id": "2503b8e8",
   "metadata": {
    "execution": {
     "iopub.execute_input": "2023-07-05T17:35:57.375079Z",
     "iopub.status.busy": "2023-07-05T17:35:57.374638Z",
     "iopub.status.idle": "2023-07-05T17:35:57.381181Z",
     "shell.execute_reply": "2023-07-05T17:35:57.380320Z"
    },
    "papermill": {
     "duration": 0.025548,
     "end_time": "2023-07-05T17:35:57.383572",
     "exception": false,
     "start_time": "2023-07-05T17:35:57.358024",
     "status": "completed"
    },
    "tags": []
   },
   "outputs": [],
   "source": [
    "from sklearn import svm\n",
    "clf1 = svm.SVC(kernel=\"rbf\",C=4.5,random_state=3)\n",
    "clf2 = svm.SVC(kernel=\"poly\",C=6,random_state=11)\n",
    "clf3 = svm.SVC(kernel=\"linear\",C=2.5,random_state=7)\n",
    "clf4 = svm.SVC(kernel=\"rbf\",C=4.5,random_state=2)"
   ]
  },
  {
   "cell_type": "markdown",
   "id": "e16f3de4",
   "metadata": {
    "papermill": {
     "duration": 0.016281,
     "end_time": "2023-07-05T17:35:57.415887",
     "exception": false,
     "start_time": "2023-07-05T17:35:57.399606",
     "status": "completed"
    },
    "tags": []
   },
   "source": [
    "### Using cross-validation"
   ]
  },
  {
   "cell_type": "code",
   "execution_count": 18,
   "id": "3dcd5983",
   "metadata": {
    "execution": {
     "iopub.execute_input": "2023-07-05T17:35:57.449324Z",
     "iopub.status.busy": "2023-07-05T17:35:57.448053Z",
     "iopub.status.idle": "2023-07-05T17:35:57.471889Z",
     "shell.execute_reply": "2023-07-05T17:35:57.470709Z"
    },
    "papermill": {
     "duration": 0.042861,
     "end_time": "2023-07-05T17:35:57.474316",
     "exception": false,
     "start_time": "2023-07-05T17:35:57.431455",
     "status": "completed"
    },
    "tags": []
   },
   "outputs": [
    {
     "name": "stdout",
     "output_type": "stream",
     "text": [
      "dict_keys(['fit_time', 'score_time', 'test_score'])\n",
      "Accuracy values:  [0.8        1.         0.95833333 1.        ]\n"
     ]
    }
   ],
   "source": [
    "# Using clf1 classifier \n",
    "from sklearn.model_selection import cross_validate\n",
    "cv_results = cross_validate(clf1, Xtrain, ytrain, cv=4)\n",
    "print(cv_results.keys())\n",
    "print(\"Accuracy values: \",cv_results['test_score'])"
   ]
  },
  {
   "cell_type": "code",
   "execution_count": 19,
   "id": "c58baa59",
   "metadata": {
    "execution": {
     "iopub.execute_input": "2023-07-05T17:35:57.508009Z",
     "iopub.status.busy": "2023-07-05T17:35:57.507549Z",
     "iopub.status.idle": "2023-07-05T17:35:57.530368Z",
     "shell.execute_reply": "2023-07-05T17:35:57.529158Z"
    },
    "papermill": {
     "duration": 0.04282,
     "end_time": "2023-07-05T17:35:57.533345",
     "exception": false,
     "start_time": "2023-07-05T17:35:57.490525",
     "status": "completed"
    },
    "tags": []
   },
   "outputs": [
    {
     "name": "stdout",
     "output_type": "stream",
     "text": [
      "dict_keys(['fit_time', 'score_time', 'test_score'])\n",
      "Accuracy values:  [0.84       0.88       1.         0.91666667]\n"
     ]
    }
   ],
   "source": [
    "# Using clf2 classifier \n",
    "cv_results = cross_validate(clf2, Xtrain, ytrain, cv=4)\n",
    "print(cv_results.keys())\n",
    "print(\"Accuracy values: \",cv_results['test_score'])"
   ]
  },
  {
   "cell_type": "code",
   "execution_count": 20,
   "id": "ddab6575",
   "metadata": {
    "execution": {
     "iopub.execute_input": "2023-07-05T17:35:57.568459Z",
     "iopub.status.busy": "2023-07-05T17:35:57.567988Z",
     "iopub.status.idle": "2023-07-05T17:35:57.596087Z",
     "shell.execute_reply": "2023-07-05T17:35:57.594624Z"
    },
    "papermill": {
     "duration": 0.048221,
     "end_time": "2023-07-05T17:35:57.598698",
     "exception": false,
     "start_time": "2023-07-05T17:35:57.550477",
     "status": "completed"
    },
    "tags": []
   },
   "outputs": [
    {
     "name": "stdout",
     "output_type": "stream",
     "text": [
      "dict_keys(['fit_time', 'score_time', 'test_score'])\n",
      "Accuracy values:  [0.84       0.96       0.91666667 0.95833333]\n"
     ]
    }
   ],
   "source": [
    "# Using clf3 classifier \n",
    "cv_results = cross_validate(clf3, Xtrain, ytrain, cv=4)\n",
    "print(cv_results.keys())\n",
    "print(\"Accuracy values: \",cv_results['test_score'])"
   ]
  },
  {
   "cell_type": "code",
   "execution_count": 21,
   "id": "0a87e0b3",
   "metadata": {
    "execution": {
     "iopub.execute_input": "2023-07-05T17:35:57.631520Z",
     "iopub.status.busy": "2023-07-05T17:35:57.631077Z",
     "iopub.status.idle": "2023-07-05T17:35:57.655260Z",
     "shell.execute_reply": "2023-07-05T17:35:57.653557Z"
    },
    "papermill": {
     "duration": 0.04397,
     "end_time": "2023-07-05T17:35:57.658234",
     "exception": false,
     "start_time": "2023-07-05T17:35:57.614264",
     "status": "completed"
    },
    "tags": []
   },
   "outputs": [
    {
     "name": "stdout",
     "output_type": "stream",
     "text": [
      "dict_keys(['fit_time', 'score_time', 'test_score'])\n",
      "Accuracy values:  [0.8        1.         0.95833333 1.        ]\n"
     ]
    }
   ],
   "source": [
    "# Using clf4 classifier \n",
    "cv_results = cross_validate(clf4, Xtrain, ytrain, cv=4)\n",
    "print(cv_results.keys())\n",
    "print(\"Accuracy values: \",cv_results['test_score'])"
   ]
  },
  {
   "cell_type": "code",
   "execution_count": 22,
   "id": "82ccf9b8",
   "metadata": {
    "execution": {
     "iopub.execute_input": "2023-07-05T17:35:57.693524Z",
     "iopub.status.busy": "2023-07-05T17:35:57.692760Z",
     "iopub.status.idle": "2023-07-05T17:35:57.706143Z",
     "shell.execute_reply": "2023-07-05T17:35:57.704634Z"
    },
    "papermill": {
     "duration": 0.035022,
     "end_time": "2023-07-05T17:35:57.709040",
     "exception": false,
     "start_time": "2023-07-05T17:35:57.674018",
     "status": "completed"
    },
    "tags": []
   },
   "outputs": [
    {
     "data": {
      "text/html": [
       "<style>#sk-container-id-2 {color: black;background-color: white;}#sk-container-id-2 pre{padding: 0;}#sk-container-id-2 div.sk-toggleable {background-color: white;}#sk-container-id-2 label.sk-toggleable__label {cursor: pointer;display: block;width: 100%;margin-bottom: 0;padding: 0.3em;box-sizing: border-box;text-align: center;}#sk-container-id-2 label.sk-toggleable__label-arrow:before {content: \"▸\";float: left;margin-right: 0.25em;color: #696969;}#sk-container-id-2 label.sk-toggleable__label-arrow:hover:before {color: black;}#sk-container-id-2 div.sk-estimator:hover label.sk-toggleable__label-arrow:before {color: black;}#sk-container-id-2 div.sk-toggleable__content {max-height: 0;max-width: 0;overflow: hidden;text-align: left;background-color: #f0f8ff;}#sk-container-id-2 div.sk-toggleable__content pre {margin: 0.2em;color: black;border-radius: 0.25em;background-color: #f0f8ff;}#sk-container-id-2 input.sk-toggleable__control:checked~div.sk-toggleable__content {max-height: 200px;max-width: 100%;overflow: auto;}#sk-container-id-2 input.sk-toggleable__control:checked~label.sk-toggleable__label-arrow:before {content: \"▾\";}#sk-container-id-2 div.sk-estimator input.sk-toggleable__control:checked~label.sk-toggleable__label {background-color: #d4ebff;}#sk-container-id-2 div.sk-label input.sk-toggleable__control:checked~label.sk-toggleable__label {background-color: #d4ebff;}#sk-container-id-2 input.sk-hidden--visually {border: 0;clip: rect(1px 1px 1px 1px);clip: rect(1px, 1px, 1px, 1px);height: 1px;margin: -1px;overflow: hidden;padding: 0;position: absolute;width: 1px;}#sk-container-id-2 div.sk-estimator {font-family: monospace;background-color: #f0f8ff;border: 1px dotted black;border-radius: 0.25em;box-sizing: border-box;margin-bottom: 0.5em;}#sk-container-id-2 div.sk-estimator:hover {background-color: #d4ebff;}#sk-container-id-2 div.sk-parallel-item::after {content: \"\";width: 100%;border-bottom: 1px solid gray;flex-grow: 1;}#sk-container-id-2 div.sk-label:hover label.sk-toggleable__label {background-color: #d4ebff;}#sk-container-id-2 div.sk-serial::before {content: \"\";position: absolute;border-left: 1px solid gray;box-sizing: border-box;top: 0;bottom: 0;left: 50%;z-index: 0;}#sk-container-id-2 div.sk-serial {display: flex;flex-direction: column;align-items: center;background-color: white;padding-right: 0.2em;padding-left: 0.2em;position: relative;}#sk-container-id-2 div.sk-item {position: relative;z-index: 1;}#sk-container-id-2 div.sk-parallel {display: flex;align-items: stretch;justify-content: center;background-color: white;position: relative;}#sk-container-id-2 div.sk-item::before, #sk-container-id-2 div.sk-parallel-item::before {content: \"\";position: absolute;border-left: 1px solid gray;box-sizing: border-box;top: 0;bottom: 0;left: 50%;z-index: -1;}#sk-container-id-2 div.sk-parallel-item {display: flex;flex-direction: column;z-index: 1;position: relative;background-color: white;}#sk-container-id-2 div.sk-parallel-item:first-child::after {align-self: flex-end;width: 50%;}#sk-container-id-2 div.sk-parallel-item:last-child::after {align-self: flex-start;width: 50%;}#sk-container-id-2 div.sk-parallel-item:only-child::after {width: 0;}#sk-container-id-2 div.sk-dashed-wrapped {border: 1px dashed gray;margin: 0 0.4em 0.5em 0.4em;box-sizing: border-box;padding-bottom: 0.4em;background-color: white;}#sk-container-id-2 div.sk-label label {font-family: monospace;font-weight: bold;display: inline-block;line-height: 1.2em;}#sk-container-id-2 div.sk-label-container {text-align: center;}#sk-container-id-2 div.sk-container {/* jupyter's `normalize.less` sets `[hidden] { display: none; }` but bootstrap.min.css set `[hidden] { display: none !important; }` so we also need the `!important` here to be able to override the default hidden behavior on the sphinx rendered scikit-learn.org. See: https://github.com/scikit-learn/scikit-learn/issues/21755 */display: inline-block !important;position: relative;}#sk-container-id-2 div.sk-text-repr-fallback {display: none;}</style><div id=\"sk-container-id-2\" class=\"sk-top-container\"><div class=\"sk-text-repr-fallback\"><pre>SVC(C=4, kernel=&#x27;poly&#x27;, random_state=1)</pre><b>In a Jupyter environment, please rerun this cell to show the HTML representation or trust the notebook. <br />On GitHub, the HTML representation is unable to render, please try loading this page with nbviewer.org.</b></div><div class=\"sk-container\" hidden><div class=\"sk-item\"><div class=\"sk-estimator sk-toggleable\"><input class=\"sk-toggleable__control sk-hidden--visually\" id=\"sk-estimator-id-4\" type=\"checkbox\" checked><label for=\"sk-estimator-id-4\" class=\"sk-toggleable__label sk-toggleable__label-arrow\">SVC</label><div class=\"sk-toggleable__content\"><pre>SVC(C=4, kernel=&#x27;poly&#x27;, random_state=1)</pre></div></div></div></div></div>"
      ],
      "text/plain": [
       "SVC(C=4, kernel='poly', random_state=1)"
      ]
     },
     "execution_count": 22,
     "metadata": {},
     "output_type": "execute_result"
    }
   ],
   "source": [
    "# From the above, it is verified that poly and rbf kernels yield better accuracy\n",
    "# Hence, the GridSearchCV parameters will be \n",
    "model = SVC(C= 4, kernel= 'poly', random_state= 1)\n",
    "model.fit(Xtrain,ytrain)"
   ]
  },
  {
   "cell_type": "markdown",
   "id": "b807530f",
   "metadata": {
    "papermill": {
     "duration": 0.015635,
     "end_time": "2023-07-05T17:35:57.741719",
     "exception": false,
     "start_time": "2023-07-05T17:35:57.726084",
     "status": "completed"
    },
    "tags": []
   },
   "source": [
    "## Classification Report"
   ]
  },
  {
   "cell_type": "code",
   "execution_count": 23,
   "id": "53e210eb",
   "metadata": {
    "execution": {
     "iopub.execute_input": "2023-07-05T17:35:57.779832Z",
     "iopub.status.busy": "2023-07-05T17:35:57.779427Z",
     "iopub.status.idle": "2023-07-05T17:35:57.790986Z",
     "shell.execute_reply": "2023-07-05T17:35:57.788971Z"
    },
    "papermill": {
     "duration": 0.03316,
     "end_time": "2023-07-05T17:35:57.794027",
     "exception": false,
     "start_time": "2023-07-05T17:35:57.760867",
     "status": "completed"
    },
    "tags": []
   },
   "outputs": [
    {
     "data": {
      "text/html": [
       "<style>#sk-container-id-3 {color: black;background-color: white;}#sk-container-id-3 pre{padding: 0;}#sk-container-id-3 div.sk-toggleable {background-color: white;}#sk-container-id-3 label.sk-toggleable__label {cursor: pointer;display: block;width: 100%;margin-bottom: 0;padding: 0.3em;box-sizing: border-box;text-align: center;}#sk-container-id-3 label.sk-toggleable__label-arrow:before {content: \"▸\";float: left;margin-right: 0.25em;color: #696969;}#sk-container-id-3 label.sk-toggleable__label-arrow:hover:before {color: black;}#sk-container-id-3 div.sk-estimator:hover label.sk-toggleable__label-arrow:before {color: black;}#sk-container-id-3 div.sk-toggleable__content {max-height: 0;max-width: 0;overflow: hidden;text-align: left;background-color: #f0f8ff;}#sk-container-id-3 div.sk-toggleable__content pre {margin: 0.2em;color: black;border-radius: 0.25em;background-color: #f0f8ff;}#sk-container-id-3 input.sk-toggleable__control:checked~div.sk-toggleable__content {max-height: 200px;max-width: 100%;overflow: auto;}#sk-container-id-3 input.sk-toggleable__control:checked~label.sk-toggleable__label-arrow:before {content: \"▾\";}#sk-container-id-3 div.sk-estimator input.sk-toggleable__control:checked~label.sk-toggleable__label {background-color: #d4ebff;}#sk-container-id-3 div.sk-label input.sk-toggleable__control:checked~label.sk-toggleable__label {background-color: #d4ebff;}#sk-container-id-3 input.sk-hidden--visually {border: 0;clip: rect(1px 1px 1px 1px);clip: rect(1px, 1px, 1px, 1px);height: 1px;margin: -1px;overflow: hidden;padding: 0;position: absolute;width: 1px;}#sk-container-id-3 div.sk-estimator {font-family: monospace;background-color: #f0f8ff;border: 1px dotted black;border-radius: 0.25em;box-sizing: border-box;margin-bottom: 0.5em;}#sk-container-id-3 div.sk-estimator:hover {background-color: #d4ebff;}#sk-container-id-3 div.sk-parallel-item::after {content: \"\";width: 100%;border-bottom: 1px solid gray;flex-grow: 1;}#sk-container-id-3 div.sk-label:hover label.sk-toggleable__label {background-color: #d4ebff;}#sk-container-id-3 div.sk-serial::before {content: \"\";position: absolute;border-left: 1px solid gray;box-sizing: border-box;top: 0;bottom: 0;left: 50%;z-index: 0;}#sk-container-id-3 div.sk-serial {display: flex;flex-direction: column;align-items: center;background-color: white;padding-right: 0.2em;padding-left: 0.2em;position: relative;}#sk-container-id-3 div.sk-item {position: relative;z-index: 1;}#sk-container-id-3 div.sk-parallel {display: flex;align-items: stretch;justify-content: center;background-color: white;position: relative;}#sk-container-id-3 div.sk-item::before, #sk-container-id-3 div.sk-parallel-item::before {content: \"\";position: absolute;border-left: 1px solid gray;box-sizing: border-box;top: 0;bottom: 0;left: 50%;z-index: -1;}#sk-container-id-3 div.sk-parallel-item {display: flex;flex-direction: column;z-index: 1;position: relative;background-color: white;}#sk-container-id-3 div.sk-parallel-item:first-child::after {align-self: flex-end;width: 50%;}#sk-container-id-3 div.sk-parallel-item:last-child::after {align-self: flex-start;width: 50%;}#sk-container-id-3 div.sk-parallel-item:only-child::after {width: 0;}#sk-container-id-3 div.sk-dashed-wrapped {border: 1px dashed gray;margin: 0 0.4em 0.5em 0.4em;box-sizing: border-box;padding-bottom: 0.4em;background-color: white;}#sk-container-id-3 div.sk-label label {font-family: monospace;font-weight: bold;display: inline-block;line-height: 1.2em;}#sk-container-id-3 div.sk-label-container {text-align: center;}#sk-container-id-3 div.sk-container {/* jupyter's `normalize.less` sets `[hidden] { display: none; }` but bootstrap.min.css set `[hidden] { display: none !important; }` so we also need the `!important` here to be able to override the default hidden behavior on the sphinx rendered scikit-learn.org. See: https://github.com/scikit-learn/scikit-learn/issues/21755 */display: inline-block !important;position: relative;}#sk-container-id-3 div.sk-text-repr-fallback {display: none;}</style><div id=\"sk-container-id-3\" class=\"sk-top-container\"><div class=\"sk-text-repr-fallback\"><pre>SVC(C=6, kernel=&#x27;poly&#x27;, random_state=11)</pre><b>In a Jupyter environment, please rerun this cell to show the HTML representation or trust the notebook. <br />On GitHub, the HTML representation is unable to render, please try loading this page with nbviewer.org.</b></div><div class=\"sk-container\" hidden><div class=\"sk-item\"><div class=\"sk-estimator sk-toggleable\"><input class=\"sk-toggleable__control sk-hidden--visually\" id=\"sk-estimator-id-5\" type=\"checkbox\" checked><label for=\"sk-estimator-id-5\" class=\"sk-toggleable__label sk-toggleable__label-arrow\">SVC</label><div class=\"sk-toggleable__content\"><pre>SVC(C=6, kernel=&#x27;poly&#x27;, random_state=11)</pre></div></div></div></div></div>"
      ],
      "text/plain": [
       "SVC(C=6, kernel='poly', random_state=11)"
      ]
     },
     "execution_count": 23,
     "metadata": {},
     "output_type": "execute_result"
    }
   ],
   "source": [
    "clf2.fit(Xtrain,ytrain)"
   ]
  },
  {
   "cell_type": "code",
   "execution_count": 24,
   "id": "f21ff579",
   "metadata": {
    "execution": {
     "iopub.execute_input": "2023-07-05T17:35:57.830265Z",
     "iopub.status.busy": "2023-07-05T17:35:57.829872Z",
     "iopub.status.idle": "2023-07-05T17:35:57.847352Z",
     "shell.execute_reply": "2023-07-05T17:35:57.846026Z"
    },
    "papermill": {
     "duration": 0.038949,
     "end_time": "2023-07-05T17:35:57.849923",
     "exception": false,
     "start_time": "2023-07-05T17:35:57.810974",
     "status": "completed"
    },
    "tags": []
   },
   "outputs": [
    {
     "name": "stdout",
     "output_type": "stream",
     "text": [
      "              precision    recall  f1-score   support\n",
      "\n",
      "           1       0.92      0.80      0.86        15\n",
      "           2       0.80      0.92      0.86        13\n",
      "           3       1.00      1.00      1.00        14\n",
      "\n",
      "    accuracy                           0.90        42\n",
      "   macro avg       0.91      0.91      0.90        42\n",
      "weighted avg       0.91      0.90      0.90        42\n",
      "\n"
     ]
    }
   ],
   "source": [
    "from sklearn.metrics import classification_report\n",
    "preds = clf2.predict(Xtest)\n",
    "print(classification_report(ytest,preds))"
   ]
  },
  {
   "cell_type": "markdown",
   "id": "70649366",
   "metadata": {
    "papermill": {
     "duration": 0.016691,
     "end_time": "2023-07-05T17:35:57.883431",
     "exception": false,
     "start_time": "2023-07-05T17:35:57.866740",
     "status": "completed"
    },
    "tags": []
   },
   "source": [
    "## Test Dataset"
   ]
  },
  {
   "cell_type": "code",
   "execution_count": 25,
   "id": "0c9b0b2d",
   "metadata": {
    "execution": {
     "iopub.execute_input": "2023-07-05T17:35:57.917945Z",
     "iopub.status.busy": "2023-07-05T17:35:57.917542Z",
     "iopub.status.idle": "2023-07-05T17:35:57.936947Z",
     "shell.execute_reply": "2023-07-05T17:35:57.935653Z"
    },
    "papermill": {
     "duration": 0.040204,
     "end_time": "2023-07-05T17:35:57.939749",
     "exception": false,
     "start_time": "2023-07-05T17:35:57.899545",
     "status": "completed"
    },
    "tags": []
   },
   "outputs": [
    {
     "data": {
      "text/html": [
       "<div>\n",
       "<style scoped>\n",
       "    .dataframe tbody tr th:only-of-type {\n",
       "        vertical-align: middle;\n",
       "    }\n",
       "\n",
       "    .dataframe tbody tr th {\n",
       "        vertical-align: top;\n",
       "    }\n",
       "\n",
       "    .dataframe thead th {\n",
       "        text-align: right;\n",
       "    }\n",
       "</style>\n",
       "<table border=\"1\" class=\"dataframe\">\n",
       "  <thead>\n",
       "    <tr style=\"text-align: right;\">\n",
       "      <th></th>\n",
       "      <th>ID</th>\n",
       "      <th>area</th>\n",
       "      <th>perimeter</th>\n",
       "      <th>compactness</th>\n",
       "      <th>kernelLength</th>\n",
       "      <th>kernelWidth</th>\n",
       "      <th>asymmetryCoefficient</th>\n",
       "      <th>kernelGrooveLength.</th>\n",
       "    </tr>\n",
       "  </thead>\n",
       "  <tbody>\n",
       "    <tr>\n",
       "      <th>0</th>\n",
       "      <td>1</td>\n",
       "      <td>18.85</td>\n",
       "      <td>16.17</td>\n",
       "      <td>0.9056</td>\n",
       "      <td>6.152</td>\n",
       "      <td>3.806</td>\n",
       "      <td>2.843</td>\n",
       "      <td>6.200</td>\n",
       "    </tr>\n",
       "    <tr>\n",
       "      <th>1</th>\n",
       "      <td>2</td>\n",
       "      <td>11.34</td>\n",
       "      <td>12.87</td>\n",
       "      <td>0.8596</td>\n",
       "      <td>5.053</td>\n",
       "      <td>2.849</td>\n",
       "      <td>3.347</td>\n",
       "      <td>5.003</td>\n",
       "    </tr>\n",
       "    <tr>\n",
       "      <th>2</th>\n",
       "      <td>3</td>\n",
       "      <td>14.86</td>\n",
       "      <td>14.67</td>\n",
       "      <td>0.8676</td>\n",
       "      <td>5.678</td>\n",
       "      <td>3.258</td>\n",
       "      <td>2.129</td>\n",
       "      <td>5.351</td>\n",
       "    </tr>\n",
       "    <tr>\n",
       "      <th>3</th>\n",
       "      <td>4</td>\n",
       "      <td>12.67</td>\n",
       "      <td>13.32</td>\n",
       "      <td>0.8977</td>\n",
       "      <td>4.984</td>\n",
       "      <td>3.135</td>\n",
       "      <td>2.300</td>\n",
       "      <td>4.745</td>\n",
       "    </tr>\n",
       "    <tr>\n",
       "      <th>4</th>\n",
       "      <td>5</td>\n",
       "      <td>11.82</td>\n",
       "      <td>13.40</td>\n",
       "      <td>0.8274</td>\n",
       "      <td>5.314</td>\n",
       "      <td>2.777</td>\n",
       "      <td>4.471</td>\n",
       "      <td>5.178</td>\n",
       "    </tr>\n",
       "  </tbody>\n",
       "</table>\n",
       "</div>"
      ],
      "text/plain": [
       "   ID   area  perimeter  compactness  kernelLength  kernelWidth  \\\n",
       "0   1  18.85      16.17       0.9056         6.152        3.806   \n",
       "1   2  11.34      12.87       0.8596         5.053        2.849   \n",
       "2   3  14.86      14.67       0.8676         5.678        3.258   \n",
       "3   4  12.67      13.32       0.8977         4.984        3.135   \n",
       "4   5  11.82      13.40       0.8274         5.314        2.777   \n",
       "\n",
       "   asymmetryCoefficient  kernelGrooveLength.  \n",
       "0                 2.843                6.200  \n",
       "1                 3.347                5.003  \n",
       "2                 2.129                5.351  \n",
       "3                 2.300                4.745  \n",
       "4                 4.471                5.178  "
      ]
     },
     "execution_count": 25,
     "metadata": {},
     "output_type": "execute_result"
    }
   ],
   "source": [
    "df_test.head()"
   ]
  },
  {
   "cell_type": "code",
   "execution_count": 26,
   "id": "a4ee076f",
   "metadata": {
    "execution": {
     "iopub.execute_input": "2023-07-05T17:35:57.976837Z",
     "iopub.status.busy": "2023-07-05T17:35:57.976410Z",
     "iopub.status.idle": "2023-07-05T17:35:57.983923Z",
     "shell.execute_reply": "2023-07-05T17:35:57.982540Z"
    },
    "papermill": {
     "duration": 0.029578,
     "end_time": "2023-07-05T17:35:57.986954",
     "exception": false,
     "start_time": "2023-07-05T17:35:57.957376",
     "status": "completed"
    },
    "tags": []
   },
   "outputs": [],
   "source": [
    "Xtest = df_test.drop([\"ID\"],axis=\"columns\") #Droppping ID attribute"
   ]
  },
  {
   "cell_type": "code",
   "execution_count": 27,
   "id": "a6ea3da3",
   "metadata": {
    "execution": {
     "iopub.execute_input": "2023-07-05T17:35:58.023140Z",
     "iopub.status.busy": "2023-07-05T17:35:58.022728Z",
     "iopub.status.idle": "2023-07-05T17:35:58.041030Z",
     "shell.execute_reply": "2023-07-05T17:35:58.039740Z"
    },
    "papermill": {
     "duration": 0.039881,
     "end_time": "2023-07-05T17:35:58.043729",
     "exception": false,
     "start_time": "2023-07-05T17:35:58.003848",
     "status": "completed"
    },
    "tags": []
   },
   "outputs": [
    {
     "data": {
      "text/html": [
       "<div>\n",
       "<style scoped>\n",
       "    .dataframe tbody tr th:only-of-type {\n",
       "        vertical-align: middle;\n",
       "    }\n",
       "\n",
       "    .dataframe tbody tr th {\n",
       "        vertical-align: top;\n",
       "    }\n",
       "\n",
       "    .dataframe thead th {\n",
       "        text-align: right;\n",
       "    }\n",
       "</style>\n",
       "<table border=\"1\" class=\"dataframe\">\n",
       "  <thead>\n",
       "    <tr style=\"text-align: right;\">\n",
       "      <th></th>\n",
       "      <th>area</th>\n",
       "      <th>perimeter</th>\n",
       "      <th>compactness</th>\n",
       "      <th>kernelLength</th>\n",
       "      <th>kernelWidth</th>\n",
       "      <th>asymmetryCoefficient</th>\n",
       "      <th>kernelGrooveLength.</th>\n",
       "    </tr>\n",
       "  </thead>\n",
       "  <tbody>\n",
       "    <tr>\n",
       "      <th>0</th>\n",
       "      <td>18.85</td>\n",
       "      <td>16.17</td>\n",
       "      <td>0.9056</td>\n",
       "      <td>6.152</td>\n",
       "      <td>3.806</td>\n",
       "      <td>2.843</td>\n",
       "      <td>6.200</td>\n",
       "    </tr>\n",
       "    <tr>\n",
       "      <th>1</th>\n",
       "      <td>11.34</td>\n",
       "      <td>12.87</td>\n",
       "      <td>0.8596</td>\n",
       "      <td>5.053</td>\n",
       "      <td>2.849</td>\n",
       "      <td>3.347</td>\n",
       "      <td>5.003</td>\n",
       "    </tr>\n",
       "    <tr>\n",
       "      <th>2</th>\n",
       "      <td>14.86</td>\n",
       "      <td>14.67</td>\n",
       "      <td>0.8676</td>\n",
       "      <td>5.678</td>\n",
       "      <td>3.258</td>\n",
       "      <td>2.129</td>\n",
       "      <td>5.351</td>\n",
       "    </tr>\n",
       "    <tr>\n",
       "      <th>3</th>\n",
       "      <td>12.67</td>\n",
       "      <td>13.32</td>\n",
       "      <td>0.8977</td>\n",
       "      <td>4.984</td>\n",
       "      <td>3.135</td>\n",
       "      <td>2.300</td>\n",
       "      <td>4.745</td>\n",
       "    </tr>\n",
       "    <tr>\n",
       "      <th>4</th>\n",
       "      <td>11.82</td>\n",
       "      <td>13.40</td>\n",
       "      <td>0.8274</td>\n",
       "      <td>5.314</td>\n",
       "      <td>2.777</td>\n",
       "      <td>4.471</td>\n",
       "      <td>5.178</td>\n",
       "    </tr>\n",
       "  </tbody>\n",
       "</table>\n",
       "</div>"
      ],
      "text/plain": [
       "    area  perimeter  compactness  kernelLength  kernelWidth  \\\n",
       "0  18.85      16.17       0.9056         6.152        3.806   \n",
       "1  11.34      12.87       0.8596         5.053        2.849   \n",
       "2  14.86      14.67       0.8676         5.678        3.258   \n",
       "3  12.67      13.32       0.8977         4.984        3.135   \n",
       "4  11.82      13.40       0.8274         5.314        2.777   \n",
       "\n",
       "   asymmetryCoefficient  kernelGrooveLength.  \n",
       "0                 2.843                6.200  \n",
       "1                 3.347                5.003  \n",
       "2                 2.129                5.351  \n",
       "3                 2.300                4.745  \n",
       "4                 4.471                5.178  "
      ]
     },
     "execution_count": 27,
     "metadata": {},
     "output_type": "execute_result"
    }
   ],
   "source": [
    "Xtest.head()"
   ]
  },
  {
   "cell_type": "code",
   "execution_count": 28,
   "id": "ada8bc34",
   "metadata": {
    "execution": {
     "iopub.execute_input": "2023-07-05T17:35:58.079095Z",
     "iopub.status.busy": "2023-07-05T17:35:58.078701Z",
     "iopub.status.idle": "2023-07-05T17:35:58.085965Z",
     "shell.execute_reply": "2023-07-05T17:35:58.084403Z"
    },
    "papermill": {
     "duration": 0.028108,
     "end_time": "2023-07-05T17:35:58.088547",
     "exception": false,
     "start_time": "2023-07-05T17:35:58.060439",
     "status": "completed"
    },
    "tags": []
   },
   "outputs": [],
   "source": [
    "Xtest = scale.transform(Xtest)  #Transforming test dataset"
   ]
  },
  {
   "cell_type": "code",
   "execution_count": 29,
   "id": "8970d3ee",
   "metadata": {
    "execution": {
     "iopub.execute_input": "2023-07-05T17:35:58.125250Z",
     "iopub.status.busy": "2023-07-05T17:35:58.124813Z",
     "iopub.status.idle": "2023-07-05T17:35:58.130943Z",
     "shell.execute_reply": "2023-07-05T17:35:58.129690Z"
    },
    "papermill": {
     "duration": 0.027779,
     "end_time": "2023-07-05T17:35:58.133578",
     "exception": false,
     "start_time": "2023-07-05T17:35:58.105799",
     "status": "completed"
    },
    "tags": []
   },
   "outputs": [],
   "source": [
    "test_preds = clf2.predict(Xtest)"
   ]
  },
  {
   "cell_type": "code",
   "execution_count": 30,
   "id": "add874db",
   "metadata": {
    "execution": {
     "iopub.execute_input": "2023-07-05T17:35:58.168430Z",
     "iopub.status.busy": "2023-07-05T17:35:58.168050Z",
     "iopub.status.idle": "2023-07-05T17:35:58.184118Z",
     "shell.execute_reply": "2023-07-05T17:35:58.182897Z"
    },
    "papermill": {
     "duration": 0.036767,
     "end_time": "2023-07-05T17:35:58.186938",
     "exception": false,
     "start_time": "2023-07-05T17:35:58.150171",
     "status": "completed"
    },
    "tags": []
   },
   "outputs": [
    {
     "name": "stdout",
     "output_type": "stream",
     "text": [
      "    ID  Type\n",
      "0    1     2\n",
      "1    2     3\n",
      "2    3     1\n",
      "3    4     3\n",
      "4    5     3\n",
      "..  ..   ...\n",
      "65  66     1\n",
      "66  67     2\n",
      "67  68     3\n",
      "68  69     2\n",
      "69  70     1\n",
      "\n",
      "[70 rows x 2 columns]\n"
     ]
    }
   ],
   "source": [
    "output = pd.DataFrame({\"ID\":df_test['ID'],\"Type\":test_preds})\n",
    "output.to_csv('submission.csv',index=False)\n",
    "print(output)"
   ]
  }
 ],
 "metadata": {
  "kernelspec": {
   "display_name": "Python 3",
   "language": "python",
   "name": "python3"
  },
  "language_info": {
   "codemirror_mode": {
    "name": "ipython",
    "version": 3
   },
   "file_extension": ".py",
   "mimetype": "text/x-python",
   "name": "python",
   "nbconvert_exporter": "python",
   "pygments_lexer": "ipython3",
   "version": "3.10.10"
  },
  "papermill": {
   "default_parameters": {},
   "duration": 25.198643,
   "end_time": "2023-07-05T17:35:59.328233",
   "environment_variables": {},
   "exception": null,
   "input_path": "__notebook__.ipynb",
   "output_path": "__notebook__.ipynb",
   "parameters": {},
   "start_time": "2023-07-05T17:35:34.129590",
   "version": "2.4.0"
  }
 },
 "nbformat": 4,
 "nbformat_minor": 5
}
